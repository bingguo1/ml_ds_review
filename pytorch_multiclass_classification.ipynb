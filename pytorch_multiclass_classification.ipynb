{
 "cells": [
  {
   "cell_type": "markdown",
   "metadata": {},
   "source": [
    "## my own work with reference: https://machinelearningmastery.com/building-a-multiclass-classification-model-in-pytorch/"
   ]
  },
  {
   "cell_type": "markdown",
   "metadata": {},
   "source": [
    "## iris classification\n",
    "### two ways to implement:\n",
    "## 1, targets are long integers between [0,1, ... n-1], use softmax in model\n",
    "## 1b, targets are long integers between [0,1, ... n-1], no softmax in model, but when Eval(), manually apply softmax to y_pred(or simply  torch.max(outputs, 1)), see: https://stackoverflow.com/questions/70303466/do-i-need-to-apply-the-softmax-function-anywhere-in-my-multi-class-classificatio\n",
    "## 2, targets are one-hot encoded,no softmax in model"
   ]
  },
  {
   "cell_type": "markdown",
   "metadata": {},
   "source": [
    "## for nn.ReLU\n",
    "nn.ReLU() creates an nn.Module which you can add e.g. to an nn.Sequential model. nn.functional.relu on the other side is just the functional API call to the relu function, so that you can add it e.g. in your forward method yourself.\n",
    "\n",
    "so if you are using nn.ReLU, you have to create it in __init__() first, then use it in forward()\n",
    "## error2 ran into: expected scalar type Long but found Float:\n",
    "crossentropy expect result to be integer long"
   ]
  },
  {
   "cell_type": "markdown",
   "metadata": {},
   "source": [
    "## want to increase accuracy? https://www.kaggle.com/code/juiyangchang/cnn-with-pytorch-0-995-accuracy/notebook\n"
   ]
  },
  {
   "cell_type": "markdown",
   "metadata": {},
   "source": [
    "# The regularization techniques help to improve a model and allows it to converge faster. \n",
    "# We have several regularization tools at our end, some of them are early stopping, dropout, weight initialization techniques, and batch normalization. \n",
    "# The regularization helps in preventing the over-fitting of the model and the learning process becomes more efficient."
   ]
  },
  {
   "cell_type": "code",
   "execution_count": 3,
   "metadata": {},
   "outputs": [],
   "source": [
    "import torch\n",
    "from torch import nn\n",
    "from sklearn import datasets\n",
    "import tqdm"
   ]
  },
  {
   "cell_type": "code",
   "execution_count": 4,
   "metadata": {},
   "outputs": [],
   "source": [
    "iris_data=datasets.load_iris()"
   ]
  },
  {
   "cell_type": "code",
   "execution_count": 105,
   "metadata": {},
   "outputs": [],
   "source": [
    "features= iris_data['data']\n",
    "targets = iris_data['target']"
   ]
  },
  {
   "cell_type": "code",
   "execution_count": 106,
   "metadata": {},
   "outputs": [
    {
     "data": {
      "text/plain": [
       "array([0, 0, 0, 0, 0, 0, 0, 0, 0, 0, 0, 0, 0, 0, 0, 0, 0, 0, 0, 0, 0, 0,\n",
       "       0, 0, 0, 0, 0, 0, 0, 0, 0, 0, 0, 0, 0, 0, 0, 0, 0, 0, 0, 0, 0, 0,\n",
       "       0, 0, 0, 0, 0, 0, 1, 1, 1, 1, 1, 1, 1, 1, 1, 1, 1, 1, 1, 1, 1, 1,\n",
       "       1, 1, 1, 1, 1, 1, 1, 1, 1, 1, 1, 1, 1, 1, 1, 1, 1, 1, 1, 1, 1, 1,\n",
       "       1, 1, 1, 1, 1, 1, 1, 1, 1, 1, 1, 1, 2, 2, 2, 2, 2, 2, 2, 2, 2, 2,\n",
       "       2, 2, 2, 2, 2, 2, 2, 2, 2, 2, 2, 2, 2, 2, 2, 2, 2, 2, 2, 2, 2, 2,\n",
       "       2, 2, 2, 2, 2, 2, 2, 2, 2, 2, 2, 2, 2, 2, 2, 2, 2, 2])"
      ]
     },
     "execution_count": 106,
     "metadata": {},
     "output_type": "execute_result"
    }
   ],
   "source": [
    "targets"
   ]
  },
  {
   "cell_type": "markdown",
   "metadata": {},
   "source": [
    "## nn.Linear expecting float32, so do use following dtype"
   ]
  },
  {
   "cell_type": "markdown",
   "metadata": {},
   "source": [
    "### crossentropy expect result to be integer long"
   ]
  },
  {
   "cell_type": "code",
   "execution_count": 107,
   "metadata": {},
   "outputs": [],
   "source": [
    "from sklearn.model_selection import train_test_split\n",
    "features = torch.tensor(features, dtype=torch.float32)\n",
    "targets = torch.tensor(targets, dtype=torch.long)\n",
    "# features = torch.tensor(features)\n",
    "# targets = torch.tensor(targets)\n",
    "\n",
    "X_train, X_test, y_train, y_test = train_test_split(features, targets, train_size= 0.7, shuffle=True)"
   ]
  },
  {
   "cell_type": "code",
   "execution_count": 108,
   "metadata": {},
   "outputs": [
    {
     "data": {
      "text/plain": [
       "(torch.Size([105, 4]), torch.Size([105]), torch.float32, torch.int64)"
      ]
     },
     "execution_count": 108,
     "metadata": {},
     "output_type": "execute_result"
    }
   ],
   "source": [
    "X_train.shape, y_train.shape, X_train.dtype, y_train.dtype"
   ]
  },
  {
   "cell_type": "code",
   "execution_count": 82,
   "metadata": {},
   "outputs": [],
   "source": [
    "import torch.nn.functional as F"
   ]
  },
  {
   "cell_type": "code",
   "execution_count": 83,
   "metadata": {},
   "outputs": [],
   "source": [
    "class MultiClassModel(nn.Module):\n",
    "    def __init__(self, input_dim, n_category, hidden=8):\n",
    "        super(MultiClassModel,self).__init__()\n",
    "        self.f1=nn.Linear(input_dim, hidden)\n",
    "        self.act = nn.ReLU()\n",
    "        self.f2=nn.Linear(hidden, n_category)\n",
    "    def forward(self, x):\n",
    "        x= self.act(self.f1(x))\n",
    "        x=F.softmax(self.f2(x), dim=1)\n",
    "        return x\n",
    "model = MultiClassModel(4, 3)\n",
    "loss_func= nn.CrossEntropyLoss()\n",
    "optimizer = torch.optim.Adam(model.parameters(), lr=1e-3)\n",
    "        "
   ]
  },
  {
   "cell_type": "code",
   "execution_count": 143,
   "metadata": {},
   "outputs": [],
   "source": [
    "def train(X_train, y_train, n_epoch, batch_size):\n",
    "    batches_per_epoch = len(X_train)//batch_size\n",
    "    model.train()\n",
    "    for epoch in range(n_epoch):\n",
    "        with tqdm.trange(batches_per_epoch, unit=\"batch\", mininterval=0) as bar:\n",
    "            bar.set_description(f\"Epoch {epoch}\")\n",
    "            for i in bar:\n",
    "                start=i*batch_size\n",
    "                X_batch=X_train[start:start+batch_size]\n",
    "                y_batch=y_train[start:start+batch_size]\n",
    "                y_pred = model(X_batch)\n",
    "                # print(f\"y_pred:{y_pred}, y_batch:{y_batch}\")\n",
    "                # print(f\"y_batch:{y_batch}\")\n",
    "                loss = loss_func(y_pred, y_batch)\n",
    "                loss.backward()\n",
    "                optimizer.step()\n",
    "                optimizer.zero_grad()\n",
    "                with torch.no_grad():\n",
    "                    y_test_pred=model(X_test)\n",
    "                    correct = (torch.argmax(y_test_pred, dim=1) == y_test).type(torch.FloatTensor).mean()\n",
    "                # print(loss.item())\n",
    "                bar.set_postfix(\n",
    "                loss=loss.item(),\n",
    "                acc=correct.item())\n",
    "                "
   ]
  },
  {
   "cell_type": "code",
   "execution_count": null,
   "metadata": {},
   "outputs": [],
   "source": [
    "train(X_train, y_train, 200, len(X_train))"
   ]
  },
  {
   "cell_type": "markdown",
   "metadata": {},
   "source": [
    "### one hot encoding"
   ]
  },
  {
   "cell_type": "code",
   "execution_count": 187,
   "metadata": {},
   "outputs": [],
   "source": [
    "class MultiClassModel2(nn.Module):\n",
    "    def __init__(self, input_dim, n_category, hiddens=[16,8]):\n",
    "        super(MultiClassModel2,self).__init__()\n",
    "        \n",
    "        self.ffirst=nn.Linear(input_dim, hiddens[0])\n",
    "        self.middlelayers=[]\n",
    "        for i in range(0,len(hiddens)-1):\n",
    "            print(\"added one middle  layer\")\n",
    "            self.middlelayers.append(nn.Linear(hiddens[i],hiddens[i+1]))\n",
    "        self.flast=nn.Linear(hiddens[-1], n_category)\n",
    "\n",
    "        self.act = nn.ReLU()\n",
    "    def forward(self, x):\n",
    "        \n",
    "        x= self.act(self.ffirst(x))\n",
    "        for l in self.middlelayers:\n",
    "            x = self.act(l(x))\n",
    "        x=self.flast(x)\n",
    "        return x\n",
    "    \n"
   ]
  },
  {
   "cell_type": "code",
   "execution_count": 153,
   "metadata": {},
   "outputs": [],
   "source": [
    "from sklearn.preprocessing import OneHotEncoder\n",
    "\n",
    "features= iris_data['data']\n",
    "targets = iris_data['target']\n",
    "targets = targets.reshape(-1,1)\n",
    "ohe = OneHotEncoder(handle_unknown='ignore', sparse_output=False).fit(targets)\n",
    "targets = ohe.transform(targets)\n",
    "\n"
   ]
  },
  {
   "cell_type": "code",
   "execution_count": 163,
   "metadata": {},
   "outputs": [
    {
     "data": {
      "text/plain": [
       "(torch.Size([105, 4]), torch.Size([105, 3]), torch.float32, torch.float32)"
      ]
     },
     "execution_count": 163,
     "metadata": {},
     "output_type": "execute_result"
    }
   ],
   "source": [
    "features = torch.tensor(features, dtype=torch.float32)\n",
    "targets = torch.tensor(targets, dtype=torch.float32)\n",
    "X_train, X_test, y_train, y_test = train_test_split(features, targets, train_size= 0.7, shuffle=True)\n",
    "X_train.shape, y_train.shape, X_train.dtype, y_train.dtype"
   ]
  },
  {
   "cell_type": "code",
   "execution_count": 177,
   "metadata": {},
   "outputs": [],
   "source": [
    "\n",
    "def train2(X_train, y_train, nepoch):\n",
    "    model2.train()\n",
    "    train_losses=[]\n",
    "    test_losses=[]\n",
    "    train_accs=[]\n",
    "    test_accs=[]\n",
    "    for epoch in range(nepoch):\n",
    "        y_pred = model2(X_train)\n",
    "        loss = loss_func(y_pred, y_train)\n",
    "        loss.backward()\n",
    "        optimizer.step()\n",
    "        optimizer.zero_grad()\n",
    "        train_losses.append(loss.item())\n",
    "        acc = (torch.argmax(y_pred, 1) == torch.argmax(y_train, 1)).float().mean()\n",
    "        train_accs.append(acc)\n",
    "        with torch.no_grad():\n",
    "            y_test_pred= model2(X_test)\n",
    "            test_loss = loss_func(y_test_pred,y_test).item()\n",
    "            test_acc= (torch.argmax(y_test_pred, 1) == torch.argmax(y_test, 1)).float().mean()\n",
    "            test_losses.append(test_loss)\n",
    "            test_accs.append(test_acc)\n",
    "        if epoch%20==0:\n",
    "            print(f\"epoch:{epoch}, loss: {loss.item()}, acc: {acc}, test_loss:{test_loss}, test_acc:{test_acc}\")\n",
    "    return train_losses, test_losses, train_accs, test_accs"
   ]
  },
  {
   "cell_type": "code",
   "execution_count": 194,
   "metadata": {},
   "outputs": [
    {
     "name": "stdout",
     "output_type": "stream",
     "text": [
      "MultiClassModel2(\n",
      "  (ffirst): Linear(in_features=4, out_features=16, bias=True)\n",
      "  (flast): Linear(in_features=16, out_features=3, bias=True)\n",
      "  (act): ReLU()\n",
      ")\n"
     ]
    }
   ],
   "source": [
    "model2 = MultiClassModel2(4, 3,[16])\n",
    "print(model2)"
   ]
  },
  {
   "cell_type": "code",
   "execution_count": 195,
   "metadata": {},
   "outputs": [
    {
     "name": "stdout",
     "output_type": "stream",
     "text": [
      "epoch:0, loss: 1.5735588073730469, acc: 0.3523809611797333, test_loss:1.7282267808914185, test_acc:0.2888889014720917\n",
      "epoch:20, loss: 1.2469662427902222, acc: 0.3523809611797333, test_loss:1.3532555103302002, test_acc:0.2888889014720917\n",
      "epoch:40, loss: 1.047002911567688, acc: 0.3523809611797333, test_loss:1.1138877868652344, test_acc:0.2888889014720917\n",
      "epoch:60, loss: 0.9334465861320496, acc: 0.3523809611797333, test_loss:0.9698966145515442, test_acc:0.2888889014720917\n",
      "epoch:80, loss: 0.8682421445846558, acc: 0.6571428775787354, test_loss:0.8907880783081055, test_acc:0.6222222447395325\n",
      "epoch:100, loss: 0.8111750483512878, acc: 0.6761904954910278, test_loss:0.8297524452209473, test_acc:0.644444465637207\n",
      "epoch:120, loss: 0.7559880018234253, acc: 0.6761904954910278, test_loss:0.7736490964889526, test_acc:0.644444465637207\n",
      "epoch:140, loss: 0.7046601176261902, acc: 0.6761904954910278, test_loss:0.7213443517684937, test_acc:0.644444465637207\n",
      "epoch:160, loss: 0.6586832404136658, acc: 0.6761904954910278, test_loss:0.6730995178222656, test_acc:0.644444465637207\n",
      "epoch:180, loss: 0.6187971830368042, acc: 0.6761904954910278, test_loss:0.6315929889678955, test_acc:0.644444465637207\n",
      "epoch:200, loss: 0.5848581790924072, acc: 0.6761904954910278, test_loss:0.595988392829895, test_acc:0.644444465637207\n",
      "epoch:220, loss: 0.5561903119087219, acc: 0.6761904954910278, test_loss:0.5655733942985535, test_acc:0.644444465637207\n",
      "epoch:240, loss: 0.5317586064338684, acc: 0.6761904954910278, test_loss:0.5394659042358398, test_acc:0.644444465637207\n",
      "epoch:260, loss: 0.5106765627861023, acc: 0.6761904954910278, test_loss:0.5167120099067688, test_acc:0.644444465637207\n",
      "epoch:280, loss: 0.4921494126319885, acc: 0.6761904954910278, test_loss:0.4969145953655243, test_acc:0.644444465637207\n",
      "epoch:300, loss: 0.47552990913391113, acc: 0.7047619223594666, test_loss:0.4790287911891937, test_acc:0.6666666865348816\n",
      "epoch:320, loss: 0.46035751700401306, acc: 0.723809540271759, test_loss:0.4628787040710449, test_acc:0.6666666865348816\n",
      "epoch:340, loss: 0.44624990224838257, acc: 0.7714285850524902, test_loss:0.44754311442375183, test_acc:0.7333333492279053\n",
      "epoch:360, loss: 0.43288516998291016, acc: 0.8095238208770752, test_loss:0.43317711353302, test_acc:0.7555555701255798\n",
      "epoch:380, loss: 0.4200209975242615, acc: 0.8380952477455139, test_loss:0.41931143403053284, test_acc:0.8444444537162781\n",
      "epoch:400, loss: 0.40749841928482056, acc: 0.8761904835700989, test_loss:0.40587976574897766, test_acc:0.8444444537162781\n",
      "epoch:420, loss: 0.3951658308506012, acc: 0.8857142925262451, test_loss:0.39251846075057983, test_acc:0.9111111164093018\n",
      "epoch:440, loss: 0.38284894824028015, acc: 0.9238095283508301, test_loss:0.37930670380592346, test_acc:0.9333333373069763\n",
      "epoch:460, loss: 0.3704492747783661, acc: 0.9428571462631226, test_loss:0.3661354184150696, test_acc:0.9555555582046509\n",
      "epoch:480, loss: 0.35791000723838806, acc: 0.9428571462631226, test_loss:0.3528744876384735, test_acc:0.9777777791023254\n"
     ]
    }
   ],
   "source": [
    "\n",
    "loss_func= nn.CrossEntropyLoss()\n",
    "optimizer = torch.optim.Adam(model2.parameters(), lr=1e-3)\n",
    "train_losses, test_losses, train_accs, test_accs = train2(X_train,y_train, 500)"
   ]
  },
  {
   "cell_type": "code",
   "execution_count": 196,
   "metadata": {},
   "outputs": [
    {
     "data": {
      "image/png": "[encoded data removed]",
      "text/plain": [
       "<Figure size 640x480 with 1 Axes>"
      ]
     },
     "metadata": {},
     "output_type": "display_data"
    }
   ],
   "source": [
    "import matplotlib.pyplot as plt\n",
    "plt.plot(train_losses, label=\"train loss\")\n",
    "plt.plot(test_losses, label=\"test loss\")\n",
    "plt.legend()\n",
    "plt.show()"
   ]
  },
  {
   "cell_type": "code",
   "execution_count": 197,
   "metadata": {},
   "outputs": [
    {
     "data": {
      "image/png": "[encoded data removed]",
      "text/plain": [
       "<Figure size 640x480 with 1 Axes>"
      ]
     },
     "metadata": {},
     "output_type": "display_data"
    }
   ],
   "source": [
    "plt.plot(train_accs, label=\"train accs\")\n",
    "plt.plot(test_accs, label=\"test accs\")\n",
    "plt.legend()\n",
    "plt.show()"
   ]
  },
  {
   "cell_type": "markdown",
   "metadata": {},
   "source": [
    "## online example: https://janakiev.com/blog/pytorch-iris/"
   ]
  },
  {
   "cell_type": "code",
   "execution_count": 145,
   "metadata": {},
   "outputs": [],
   "source": [
    "import numpy as np\n",
    "import pandas as pd\n",
    "import matplotlib.pyplot as plt\n",
    "from sklearn.datasets import load_iris\n",
    "from sklearn.model_selection import train_test_split\n",
    "from sklearn.preprocessing import StandardScaler\n",
    "\n",
    "iris = load_iris()\n",
    "X = iris['data']\n",
    "y = iris['target']\n",
    "names = iris['target_names']\n",
    "feature_names = iris['feature_names']\n",
    "\n",
    "# Scale data to have mean 0 and variance 1 \n",
    "# which is importance for convergence of the neural network\n",
    "scaler = StandardScaler()\n",
    "X_scaled = scaler.fit_transform(X)\n",
    "\n",
    "# Split the data set into training and testing\n",
    "X_train, X_test, y_train, y_test = train_test_split(\n",
    "    X_scaled, y, test_size=0.2, random_state=2)\n",
    "\n",
    "import torch\n",
    "import torch.nn.functional as F\n",
    "import torch.nn as nn\n",
    "from torch.autograd import Variable\n",
    "\n",
    "class Model(nn.Module):\n",
    "    def __init__(self, input_dim):\n",
    "        super(Model, self).__init__()\n",
    "        self.layer1 = nn.Linear(input_dim, 50)\n",
    "        self.layer2 = nn.Linear(50, 50)\n",
    "        self.layer3 = nn.Linear(50, 3)\n",
    "        \n",
    "    def forward(self, x):\n",
    "        x = F.relu(self.layer1(x))\n",
    "        x = F.relu(self.layer2(x))\n",
    "        x = F.softmax(self.layer3(x), dim=1)\n",
    "        return x\n",
    "    \n",
    "model     = Model(X_train.shape[1])\n",
    "optimizer = torch.optim.Adam(model.parameters(), lr=0.001)\n",
    "loss_fn   = nn.CrossEntropyLoss()"
   ]
  },
  {
   "cell_type": "code",
   "execution_count": 146,
   "metadata": {},
   "outputs": [
    {
     "name": "stdout",
     "output_type": "stream",
     "text": [
      "torch.Size([120, 4])\n",
      "torch.Size([120])\n",
      "tensor(2)\n"
     ]
    },
    {
     "data": {
      "text/plain": [
       "(None, None, None, torch.float32, torch.int64)"
      ]
     },
     "execution_count": 146,
     "metadata": {},
     "output_type": "execute_result"
    }
   ],
   "source": [
    "import tqdm\n",
    "\n",
    "EPOCHS  = 100\n",
    "X_train = Variable(torch.from_numpy(X_train)).float()\n",
    "y_train = Variable(torch.from_numpy(y_train)).long()\n",
    "X_test  = Variable(torch.from_numpy(X_test)).float()\n",
    "y_test  = Variable(torch.from_numpy(y_test)).long()\n",
    "\n",
    "loss_list     = np.zeros((EPOCHS,))\n",
    "accuracy_list = np.zeros((EPOCHS,))\n",
    "print(X_train.shape), print(y_train.shape), print(y_train[0]), X_train.dtype, y_train.dtype"
   ]
  },
  {
   "cell_type": "markdown",
   "metadata": {},
   "source": [
    "## torch.argmax"
   ]
  },
  {
   "cell_type": "code",
   "execution_count": 147,
   "metadata": {},
   "outputs": [
    {
     "name": "stderr",
     "output_type": "stream",
     "text": [
      "100%|██████████| 100/100 [00:00<00:00, 2289.48it/s]\n"
     ]
    }
   ],
   "source": [
    "for epoch in tqdm.trange(EPOCHS):\n",
    "    y_pred = model(X_train)\n",
    "    loss = loss_fn(y_pred, y_train)\n",
    "    # print(f\"y_pred:{y_pred}, y_train:{y_train}\")\n",
    "    loss_list[epoch] = loss.item()\n",
    "    \n",
    "    # Zero gradients\n",
    "    optimizer.zero_grad()\n",
    "    loss.backward()\n",
    "    optimizer.step()\n",
    "    \n",
    "    with torch.no_grad():\n",
    "        y_pred = model(X_test)\n",
    "        correct = (torch.argmax(y_pred, dim=1) == y_test).type(torch.FloatTensor)\n",
    "        accuracy_list[epoch] = correct.mean()"
   ]
  },
  {
   "cell_type": "code",
   "execution_count": null,
   "metadata": {},
   "outputs": [],
   "source": []
  }
 ],
 "metadata": {
  "kernelspec": {
   "display_name": "cuda121",
   "language": "python",
   "name": "python3"
  },
  "language_info": {
   "codemirror_mode": {
    "name": "ipython",
    "version": 3
   },
   "file_extension": ".py",
   "mimetype": "text/x-python",
   "name": "python",
   "nbconvert_exporter": "python",
   "pygments_lexer": "ipython3",
   "version": "3.1.0"
  }
 },
 "nbformat": 4,
 "nbformat_minor": 2
}
