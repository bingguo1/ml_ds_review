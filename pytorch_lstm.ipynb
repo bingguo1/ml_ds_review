{
 "cells": [
  {
   "cell_type": "markdown",
   "metadata": {},
   "source": [
    "## https://pytorch.org/tutorials/beginner/nlp/sequence_models_tutorial.html"
   ]
  },
  {
   "cell_type": "code",
   "execution_count": 1,
   "metadata": {},
   "outputs": [
    {
     "data": {
      "text/plain": [
       "<torch._C.Generator at 0x7f7835d4cb50>"
      ]
     },
     "execution_count": 1,
     "metadata": {},
     "output_type": "execute_result"
    }
   ],
   "source": [
    "import torch\n",
    "import torch.nn as nn\n",
    "import torch.nn.functional as F\n",
    "import torch.optim as optim\n",
    "\n",
    "torch.manual_seed(1)"
   ]
  },
  {
   "cell_type": "code",
   "execution_count": 2,
   "metadata": {},
   "outputs": [],
   "source": [
    "lstm = nn.LSTM(3, 3)  # Input dim is 3, output dim is 3\n",
    "inputs = [torch.randn(1, 3) for _ in range(5)]  # make a sequence of length 5\n",
    "\n",
    "# initialize the hidden state.\n",
    "hidden = (torch.randn(1, 1, 3),\n",
    "          torch.randn(1, 1, 3))\n",
    "for i in inputs:\n",
    "    # Step through the sequence one element at a time.\n",
    "    # after each step, hidden contains the hidden state.\n",
    "    out, hidden = lstm(i.view(1, 1, -1), hidden)\n"
   ]
  },
  {
   "cell_type": "code",
   "execution_count": 3,
   "metadata": {},
   "outputs": [
    {
     "name": "stdout",
     "output_type": "stream",
     "text": [
      "tensor([[[-0.0187,  0.1713, -0.2944]],\n",
      "\n",
      "        [[-0.3521,  0.1026, -0.2971]],\n",
      "\n",
      "        [[-0.3191,  0.0781, -0.1957]],\n",
      "\n",
      "        [[-0.1634,  0.0941, -0.1637]],\n",
      "\n",
      "        [[-0.3368,  0.0959, -0.0538]]], grad_fn=<MkldnnRnnLayerBackward0>)\n",
      "(tensor([[[-0.3368,  0.0959, -0.0538]]], grad_fn=<StackBackward0>), tensor([[[-0.9825,  0.4715, -0.0633]]], grad_fn=<StackBackward0>))\n"
     ]
    }
   ],
   "source": [
    "# alternatively, we can do the entire sequence all at once.\n",
    "# the first value returned by LSTM is all of the hidden states throughout\n",
    "# the sequence. the second is just the most recent hidden state\n",
    "# (compare the last slice of \"out\" with \"hidden\" below, they are the same)\n",
    "# The reason for this is that:\n",
    "# \"out\" will give you access to all hidden states in the sequence\n",
    "# \"hidden\" will allow you to continue the sequence and backpropagate,\n",
    "# by passing it as an argument  to the lstm at a later time\n",
    "# Add the extra 2nd dimension\n",
    "inputs = torch.cat(inputs).view(len(inputs), 1, -1)\n",
    "hidden = (torch.randn(1, 1, 3), torch.randn(1, 1, 3))  # clean out hidden state\n",
    "out, hidden = lstm(inputs, hidden)\n",
    "print(out)\n",
    "print(hidden)"
   ]
  },
  {
   "cell_type": "markdown",
   "metadata": {},
   "source": [
    "## Example: An LSTM for Part-of-Speech Tagging"
   ]
  },
  {
   "cell_type": "code",
   "execution_count": null,
   "metadata": {},
   "outputs": [],
   "source": [
    "## skip"
   ]
  },
  {
   "cell_type": "markdown",
   "metadata": {},
   "source": [
    "# NOTE: the output of LSTM seq length is same as the input seq length "
   ]
  },
  {
   "cell_type": "markdown",
   "metadata": {},
   "source": [
    "# Long Short Term Memory (LSTM) RNN Pytorch"
   ]
  },
  {
   "cell_type": "markdown",
   "metadata": {},
   "source": [
    "## https://medium.com/@prudhvirajnitjsr/long-short-term-memory-lstm-rnn-pytorch-892ceba08d32"
   ]
  },
  {
   "cell_type": "code",
   "execution_count": 22,
   "metadata": {},
   "outputs": [
    {
     "name": "stdout",
     "output_type": "stream",
     "text": [
      "Letter set is abcdefghijklmnopqrstuvwxyz #\n",
      "abcdefghijklmnopqrstuvwxyz #\n"
     ]
    }
   ],
   "source": [
    "import torch\n",
    "import torch.nn as nn\n",
    "import string\n",
    "\n",
    "data = \"i love neural networks\"\n",
    "EOF = \"#\"\n",
    "#data = data+EOF\n",
    "data = data.lower()\n",
    "\n",
    "seq_len = len(data)\n",
    "\n",
    "letters = string.ascii_lowercase+' #'\n",
    "print('Letter set is '+letters)\n",
    "n_letters = len(letters)\n",
    "print(n_letters)"
   ]
  },
  {
   "cell_type": "code",
   "execution_count": 29,
   "metadata": {},
   "outputs": [
    {
     "data": {
      "text/plain": [
       "28"
      ]
     },
     "execution_count": 29,
     "metadata": {},
     "output_type": "execute_result"
    }
   ],
   "source": [
    "n_letters"
   ]
  },
  {
   "cell_type": "code",
   "execution_count": 23,
   "metadata": {},
   "outputs": [],
   "source": [
    "\n",
    "def ltt(ch):\n",
    "    ans = torch.zeros(n_letters)\n",
    "    ans[letters.find(ch)]=1\n",
    "    return ans\n",
    "    \n",
    "def getLine(s):\n",
    "    ans = []\n",
    "    for c in s:\n",
    "        ans.append(ltt(c))\n",
    "    return torch.cat(ans,dim=0).view(len(s),1,n_letters)\n",
    "    \n",
    "class MyLSTM(nn.Module):\n",
    "    def __init__(self,input_dim,hidden_dim):\n",
    "        super(MyLSTM,self).__init__()\n",
    "        self.input_dim = input_dim\n",
    "        self.hidden_dim = hidden_dim\n",
    "        #LSTM takes, input_dim, hidden_dim and num_layers incase of stacked LSTMs\n",
    "        self.LSTM = nn.LSTM(input_dim,hidden_dim)\n",
    "        self.LNN = nn.Linear(hidden_dim,input_dim)\n",
    "        \n",
    "    #Input must be 3 dimensional (seq_len, batch, input_dim). \n",
    "    #hc is a tuple of hidden and cell state vector. Each of them have shape (1,1,hidden_dim)\n",
    "    def forward(self,inp,hc):\n",
    "        #this gives outut for each input in the sequence and also (hidden and cell state vector)\n",
    "        #Dimensions of output vector is (seq_len,batch,hidden_dim)\n",
    "        output,_= self.LSTM(inp,hc)\n",
    "        return self.LNN(output)\n",
    "        #return output"
   ]
  },
  {
   "cell_type": "code",
   "execution_count": 24,
   "metadata": {},
   "outputs": [],
   "source": [
    "#Dimensions of output of neural network is (seq_len, batch , hidden_dim). Since we want output dimensions to be\n",
    "#the same as n_letters, hidden_dim = n_letters (**output dimensions = hidden_dimensions)\n",
    "hidden_dim = n_letters     \n",
    "#Invoking model. Input dimensions = n_letters i.e 28. output dimensions = hidden_dimensions = 28\n",
    "model = MyLSTM(n_letters,hidden_dim)\n",
    "#I'm using Adam optimizer here\n",
    "optimizer = torch.optim.Adam(params = model.parameters(),lr=0.01)\n",
    "#Loss function is CrossEntropyLoss\n",
    "LOSS = torch.nn.CrossEntropyLoss()\n",
    "\n",
    "#List to store targets\n",
    "targets = []\n",
    "#Iterate through all chars in the sequence, starting from second letter. Since output for 1st letter is the 2nd letter\n",
    "for x in data[1:]+'#':\n",
    "    #Find the target index. For a, it is 0, For 'b' it is 1 etc..\n",
    "    targets.append(letters.find(x))\n",
    "#Convert into tensor\n",
    "targets = torch.tensor(targets)\n",
    "    \n",
    "n_iters = 400\n",
    "\n",
    "#List to store input\n",
    "inpl = []\n",
    "#Iterate through all inputs in the sequence\n",
    "for c in data:\n",
    "    #Convert into tensor\n",
    "    inpl.append(ltt(c))\n",
    "#Convert list to tensor\n",
    "inp = torch.cat(inpl,dim=0)\n",
    "#Reshape tensor into 3 dimensions (sequence length, batches = 1, dimensions = n_letters (28))\n",
    "inp = inp.view(seq_len,1,n_letters)"
   ]
  },
  {
   "cell_type": "code",
   "execution_count": 28,
   "metadata": {},
   "outputs": [
    {
     "data": {
      "text/plain": [
       "torch.Size([22, 1, 28])"
      ]
     },
     "execution_count": 28,
     "metadata": {},
     "output_type": "execute_result"
    }
   ],
   "source": [
    "inp.shape"
   ]
  },
  {
   "cell_type": "code",
   "execution_count": 30,
   "metadata": {},
   "outputs": [
    {
     "data": {
      "text/plain": [
       "tensor([26, 11, 14, 21,  4, 26, 13,  4, 20, 17,  0, 11, 26, 13,  4, 19, 22, 14,\n",
       "        17, 10, 18, 27])"
      ]
     },
     "execution_count": 30,
     "metadata": {},
     "output_type": "execute_result"
    }
   ],
   "source": [
    "targets"
   ]
  },
  {
   "cell_type": "code",
   "execution_count": 25,
   "metadata": {},
   "outputs": [
    {
     "name": "stdout",
     "output_type": "stream",
     "text": [
      "Iteration : 0 Loss : tensor(3.3275, grad_fn=<NllLossBackward0>)\n",
      "Iteration : 10 Loss : tensor(2.5152, grad_fn=<NllLossBackward0>)\n",
      "Iteration : 20 Loss : tensor(2.1348, grad_fn=<NllLossBackward0>)\n",
      "Iteration : 30 Loss : tensor(1.7366, grad_fn=<NllLossBackward0>)\n",
      "Iteration : 40 Loss : tensor(1.2629, grad_fn=<NllLossBackward0>)\n",
      "Iteration : 50 Loss : tensor(0.8741, grad_fn=<NllLossBackward0>)\n",
      "Iteration : 60 Loss : tensor(0.5489, grad_fn=<NllLossBackward0>)\n",
      "Iteration : 70 Loss : tensor(0.3019, grad_fn=<NllLossBackward0>)\n",
      "Iteration : 80 Loss : tensor(0.1631, grad_fn=<NllLossBackward0>)\n",
      "Iteration : 90 Loss : tensor(0.0914, grad_fn=<NllLossBackward0>)\n",
      "Iteration : 100 Loss : tensor(0.0565, grad_fn=<NllLossBackward0>)\n",
      "Iteration : 110 Loss : tensor(0.0437, grad_fn=<NllLossBackward0>)\n",
      "Iteration : 120 Loss : tensor(0.0309, grad_fn=<NllLossBackward0>)\n",
      "Iteration : 130 Loss : tensor(0.0252, grad_fn=<NllLossBackward0>)\n",
      "Iteration : 140 Loss : tensor(0.0206, grad_fn=<NllLossBackward0>)\n",
      "Time taken to train : 0.10635900497436523 seconds\n"
     ]
    }
   ],
   "source": [
    "#Let's note down start time to track the training time\n",
    "import time\n",
    "start = time.time()\n",
    "#Number of iterations\n",
    "n_iters = 150\n",
    "for itr in range(n_iters):\n",
    "    #Zero the previosus gradients\n",
    "    model.zero_grad()\n",
    "    optimizer.zero_grad()\n",
    "    #Initialize h and c vectors\n",
    "    h = torch.rand(hidden_dim).view(1,1,hidden_dim)\n",
    "    c = torch.rand(hidden_dim).view(1,1,hidden_dim)\n",
    "    #Find the output\n",
    "    output = model(inp,(h,c))\n",
    "    #Reshape the output to 2 dimensions. This is done, so that we can compare with target and get loss\n",
    "    output = output.view(seq_len,n_letters)\n",
    "    #Find loss\n",
    "    loss = LOSS(output,targets)\n",
    "    #Print loss for every 10th iteration\n",
    "    if itr%10==0:\n",
    "        print('Iteration : '+str(itr)+' Loss : '+str(loss) )\n",
    "    #Back propagate the loss\n",
    "    loss.backward()\n",
    "    #Perform weight updation\n",
    "    optimizer.step()\n",
    "    \n",
    "print('Time taken to train : '+str(time.time()-start)+\" seconds\")"
   ]
  },
  {
   "cell_type": "code",
   "execution_count": 26,
   "metadata": {},
   "outputs": [],
   "source": [
    "#This utility method predicts the next letter given the sequence   \n",
    "def predict(s):\n",
    "    #Get the vector for input\n",
    "    inp = getLine(s)\n",
    "    #Initialize h and c vectors\n",
    "    h = torch.rand(1,1,hidden_dim)\n",
    "    c = torch.rand(1,1,hidden_dim)\n",
    "    #Get the output\n",
    "    out = model(inp,(h,c))\n",
    "    #Find the corresponding letter from the output\n",
    "    return letters[out[-1][0].topk(1)[1].detach().numpy().item()]\n",
    "         \n",
    "\n",
    "#THis method recursively generates the sequence using the trained model\n",
    "def gen(s):\n",
    "    #If generated sequence length is too large, or terminate char is generated, we can print the generated output so far\n",
    "    if s[-1]=='#' or len(s)>=len(data)+5:\n",
    "        print(s)\n",
    "        return\n",
    "    #Predict with sequence s\n",
    "    pred = predict(s)\n",
    "    #Continue prediction with sequence s + predicted value\n",
    "    print(s+pred)\n",
    "    #Recurse\n",
    "    gen(s+pred)"
   ]
  },
  {
   "cell_type": "markdown",
   "metadata": {},
   "source": [
    "## LSTM for Time Series Prediction in PyTorch"
   ]
  },
  {
   "cell_type": "markdown",
   "metadata": {},
   "source": [
    "# https://machinelearningmastery.com/lstm-for-time-series-prediction-in-pytorch/"
   ]
  },
  {
   "cell_type": "code",
   "execution_count": 31,
   "metadata": {},
   "outputs": [],
   "source": [
    "import matplotlib.pyplot as plt\n",
    "import numpy as np\n",
    "import pandas as pd\n",
    "import torch\n",
    "import torch.nn as nn\n",
    "import torch.optim as optim\n",
    "import torch.utils.data as data\n",
    "\n",
    "df = pd.read_csv('airline-passengers.csv')\n",
    "timeseries = df[[\"Passengers\"]].values.astype('float32')"
   ]
  },
  {
   "cell_type": "code",
   "execution_count": 32,
   "metadata": {},
   "outputs": [
    {
     "data": {
      "image/png": "[encoded data removed]",
      "text/plain": [
       "<Figure size 640x480 with 1 Axes>"
      ]
     },
     "metadata": {},
     "output_type": "display_data"
    }
   ],
   "source": [
    "plt.plot(timeseries)\n",
    "plt.show()"
   ]
  },
  {
   "cell_type": "code",
   "execution_count": 33,
   "metadata": {},
   "outputs": [],
   "source": [
    "# train-test split for time series\n",
    "train_size = int(len(timeseries) * 0.67)\n",
    "test_size = len(timeseries) - train_size\n",
    "train, test = timeseries[:train_size], timeseries[train_size:]"
   ]
  },
  {
   "cell_type": "code",
   "execution_count": 34,
   "metadata": {},
   "outputs": [],
   "source": [
    "def create_dataset(dataset, lookback):\n",
    "    \"\"\"Transform a time series into a prediction dataset\n",
    "    \n",
    "    Args:\n",
    "        dataset: A numpy array of time series, first dimension is the time steps\n",
    "        lookback: Size of window for prediction\n",
    "    \"\"\"\n",
    "    X, y = [], []\n",
    "    for i in range(len(dataset)-lookback):\n",
    "        feature = dataset[i:i+lookback]\n",
    "        target = dataset[i+1:i+lookback+1]\n",
    "        X.append(feature)\n",
    "        y.append(target)\n",
    "    return torch.tensor(X), torch.tensor(y)\n",
    "\n",
    "lookback = 4\n",
    "X_train, y_train = create_dataset(train, lookback=lookback)\n",
    "X_test, y_test = create_dataset(test, lookback=lookback)"
   ]
  },
  {
   "cell_type": "code",
   "execution_count": 35,
   "metadata": {},
   "outputs": [],
   "source": [
    "class AirModel(nn.Module):\n",
    "    def __init__(self):\n",
    "        super().__init__()\n",
    "        self.lstm = nn.LSTM(input_size=1, hidden_size=50, num_layers=1, batch_first=True)\n",
    "        self.linear = nn.Linear(50, 1)\n",
    "    def forward(self, x):\n",
    "        x, _ = self.lstm(x)\n",
    "        x = self.linear(x)\n",
    "        return x\n",
    "\n",
    "model = AirModel()\n",
    "optimizer = optim.Adam(model.parameters())\n",
    "loss_fn = nn.MSELoss()\n",
    "loader = data.DataLoader(data.TensorDataset(X_train, y_train), shuffle=True, batch_size=8)"
   ]
  },
  {
   "cell_type": "code",
   "execution_count": 36,
   "metadata": {},
   "outputs": [
    {
     "name": "stdout",
     "output_type": "stream",
     "text": [
      "Epoch 0: train RMSE 225.9390, test RMSE 425.1898\n",
      "Epoch 100: train RMSE 179.5303, test RMSE 376.5283\n",
      "Epoch 200: train RMSE 142.5920, test RMSE 336.2139\n",
      "Epoch 300: train RMSE 112.9092, test RMSE 301.1601\n",
      "Epoch 400: train RMSE 90.3007, test RMSE 269.9909\n",
      "Epoch 500: train RMSE 68.6825, test RMSE 237.3153\n",
      "Epoch 600: train RMSE 53.3769, test RMSE 208.3255\n",
      "Epoch 700: train RMSE 42.7385, test RMSE 183.9696\n",
      "Epoch 800: train RMSE 35.6377, test RMSE 162.9989\n",
      "Epoch 900: train RMSE 30.5638, test RMSE 144.9002\n",
      "Epoch 1000: train RMSE 27.2104, test RMSE 129.7256\n",
      "Epoch 1100: train RMSE 24.9228, test RMSE 117.4553\n",
      "Epoch 1200: train RMSE 23.5235, test RMSE 107.2157\n",
      "Epoch 1300: train RMSE 22.3208, test RMSE 99.6820\n",
      "Epoch 1400: train RMSE 21.6738, test RMSE 93.7785\n",
      "Epoch 1500: train RMSE 20.8232, test RMSE 88.9970\n",
      "Epoch 1600: train RMSE 20.2144, test RMSE 85.7034\n",
      "Epoch 1700: train RMSE 19.8528, test RMSE 82.4276\n",
      "Epoch 1800: train RMSE 19.5383, test RMSE 80.5477\n",
      "Epoch 1900: train RMSE 19.3955, test RMSE 78.5743\n"
     ]
    },
    {
     "data": {
      "image/png": "[encoded data removed]",
      "text/plain": [
       "<Figure size 640x480 with 1 Axes>"
      ]
     },
     "metadata": {},
     "output_type": "display_data"
    }
   ],
   "source": [
    "n_epochs = 2000\n",
    "for epoch in range(n_epochs):\n",
    "    model.train()\n",
    "    for X_batch, y_batch in loader:\n",
    "        y_pred = model(X_batch)\n",
    "        loss = loss_fn(y_pred, y_batch)\n",
    "        optimizer.zero_grad()\n",
    "        loss.backward()\n",
    "        optimizer.step()\n",
    "    # Validation\n",
    "    if epoch % 100 != 0:\n",
    "        continue\n",
    "    model.eval()\n",
    "    with torch.no_grad():\n",
    "        y_pred = model(X_train)\n",
    "        train_rmse = np.sqrt(loss_fn(y_pred, y_train))\n",
    "        y_pred = model(X_test)\n",
    "        test_rmse = np.sqrt(loss_fn(y_pred, y_test))\n",
    "    print(\"Epoch %d: train RMSE %.4f, test RMSE %.4f\" % (epoch, train_rmse, test_rmse))\n",
    "\n",
    "with torch.no_grad():\n",
    "    # shift train predictions for plotting\n",
    "    train_plot = np.ones_like(timeseries) * np.nan\n",
    "    y_pred = model(X_train)\n",
    "    y_pred = y_pred[:, -1, :]\n",
    "    train_plot[lookback:train_size] = model(X_train)[:, -1, :]\n",
    "    # shift test predictions for plotting\n",
    "    test_plot = np.ones_like(timeseries) * np.nan\n",
    "    test_plot[train_size+lookback:len(timeseries)] = model(X_test)[:, -1, :]\n",
    "# plot\n",
    "plt.plot(timeseries)\n",
    "plt.plot(train_plot, c='r')\n",
    "plt.plot(test_plot, c='g')\n",
    "plt.show()"
   ]
  },
  {
   "cell_type": "code",
   "execution_count": null,
   "metadata": {},
   "outputs": [],
   "source": []
  }
 ],
 "metadata": {
  "kernelspec": {
   "display_name": "cuda121",
   "language": "python",
   "name": "python3"
  },
  "language_info": {
   "codemirror_mode": {
    "name": "ipython",
    "version": 3
   },
   "file_extension": ".py",
   "mimetype": "text/x-python",
   "name": "python",
   "nbconvert_exporter": "python",
   "pygments_lexer": "ipython3",
   "version": "3.10.12"
  }
 },
 "nbformat": 4,
 "nbformat_minor": 2
}
