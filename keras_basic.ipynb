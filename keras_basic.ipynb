{
 "cells": [
  {
   "cell_type": "code",
   "execution_count": 1,
   "metadata": {},
   "outputs": [
    {
     "name": "stderr",
     "output_type": "stream",
     "text": [
      "2024-02-14 14:06:12.913167: I tensorflow/core/util/port.cc:113] oneDNN custom operations are on. You may see slightly different numerical results due to floating-point round-off errors from different computation orders. To turn them off, set the environment variable `TF_ENABLE_ONEDNN_OPTS=0`.\n",
      "2024-02-14 14:06:12.934386: I external/local_tsl/tsl/cuda/cudart_stub.cc:31] Could not find cuda drivers on your machine, GPU will not be used.\n",
      "2024-02-14 14:06:13.076497: E external/local_xla/xla/stream_executor/cuda/cuda_dnn.cc:9261] Unable to register cuDNN factory: Attempting to register factory for plugin cuDNN when one has already been registered\n",
      "2024-02-14 14:06:13.076523: E external/local_xla/xla/stream_executor/cuda/cuda_fft.cc:607] Unable to register cuFFT factory: Attempting to register factory for plugin cuFFT when one has already been registered\n",
      "2024-02-14 14:06:13.100070: E external/local_xla/xla/stream_executor/cuda/cuda_blas.cc:1515] Unable to register cuBLAS factory: Attempting to register factory for plugin cuBLAS when one has already been registered\n",
      "2024-02-14 14:06:13.154735: I external/local_tsl/tsl/cuda/cudart_stub.cc:31] Could not find cuda drivers on your machine, GPU will not be used.\n",
      "2024-02-14 14:06:13.156064: I tensorflow/core/platform/cpu_feature_guard.cc:182] This TensorFlow binary is optimized to use available CPU instructions in performance-critical operations.\n",
      "To enable the following instructions: AVX2 AVX_VNNI FMA, in other operations, rebuild TensorFlow with the appropriate compiler flags.\n",
      "2024-02-14 14:06:13.648955: W tensorflow/compiler/tf2tensorrt/utils/py_utils.cc:38] TF-TRT Warning: Could not find TensorRT\n"
     ]
    }
   ],
   "source": [
    "\n",
    "# first neural network with keras tutorial\n",
    "from numpy import loadtxt\n",
    "from tensorflow.keras.models import Sequential\n",
    "from tensorflow.keras.layers import Dense\n"
   ]
  },
  {
   "cell_type": "code",
   "execution_count": 3,
   "metadata": {},
   "outputs": [],
   "source": [
    "# load the dataset\n",
    "dataset = loadtxt('pima-indians-diabetes.csv', delimiter=',')\n",
    "# split into input (X) and output (y) variables\n",
    "X = dataset[:,0:8]\n",
    "y = dataset[:,8]\n"
   ]
  },
  {
   "cell_type": "code",
   "execution_count": 4,
   "metadata": {},
   "outputs": [
    {
     "data": {
      "text/plain": [
       "array([[  6.   , 148.   ,  72.   , ...,   0.627,  50.   ,   1.   ],\n",
       "       [  1.   ,  85.   ,  66.   , ...,   0.351,  31.   ,   0.   ],\n",
       "       [  8.   , 183.   ,  64.   , ...,   0.672,  32.   ,   1.   ],\n",
       "       ...,\n",
       "       [  5.   , 121.   ,  72.   , ...,   0.245,  30.   ,   0.   ],\n",
       "       [  1.   , 126.   ,  60.   , ...,   0.349,  47.   ,   1.   ],\n",
       "       [  1.   ,  93.   ,  70.   , ...,   0.315,  23.   ,   0.   ]])"
      ]
     },
     "execution_count": 4,
     "metadata": {},
     "output_type": "execute_result"
    }
   ],
   "source": [
    "dataset"
   ]
  },
  {
   "cell_type": "code",
   "execution_count": 5,
   "metadata": {},
   "outputs": [
    {
     "name": "stderr",
     "output_type": "stream",
     "text": [
      "2024-02-14 14:08:14.081060: I external/local_xla/xla/stream_executor/cuda/cuda_executor.cc:901] successful NUMA node read from SysFS had negative value (-1), but there must be at least one NUMA node, so returning NUMA node zero. See more at https://github.com/torvalds/linux/blob/v6.0/Documentation/ABI/testing/sysfs-bus-pci#L344-L355\n",
      "2024-02-14 14:08:14.081732: W tensorflow/core/common_runtime/gpu/gpu_device.cc:2256] Cannot dlopen some GPU libraries. Please make sure the missing libraries mentioned above are installed properly if you would like to use GPU. Follow the guide at https://www.tensorflow.org/install/gpu for how to download and setup the required libraries for your platform.\n",
      "Skipping registering GPU devices...\n"
     ]
    }
   ],
   "source": [
    "# define the keras model\n",
    "model = Sequential()\n",
    "model.add(Dense(12, input_shape=(8,), activation='relu'))\n",
    "model.add(Dense(8, activation='relu'))\n",
    "model.add(Dense(1, activation='sigmoid'))\n"
   ]
  },
  {
   "cell_type": "markdown",
   "metadata": {},
   "source": [
    "## compile and fit"
   ]
  },
  {
   "cell_type": "code",
   "execution_count": 6,
   "metadata": {},
   "outputs": [
    {
     "name": "stdout",
     "output_type": "stream",
     "text": [
      "Epoch 1/150\n"
     ]
    },
    {
     "name": "stdout",
     "output_type": "stream",
     "text": [
      "77/77 [==============================] - 0s 859us/step - loss: 7.0291 - accuracy: 0.4297\n",
      "Epoch 2/150\n",
      "77/77 [==============================] - 0s 379us/step - loss: 1.5840 - accuracy: 0.5078\n",
      "Epoch 3/150\n",
      "77/77 [==============================] - 0s 345us/step - loss: 1.1285 - accuracy: 0.5365\n",
      "Epoch 4/150\n",
      "77/77 [==============================] - 0s 327us/step - loss: 0.9025 - accuracy: 0.5885\n",
      "Epoch 5/150\n",
      "77/77 [==============================] - 0s 297us/step - loss: 0.8130 - accuracy: 0.6497\n",
      "Epoch 6/150\n",
      "77/77 [==============================] - 0s 302us/step - loss: 0.7356 - accuracy: 0.6615\n",
      "Epoch 7/150\n",
      "77/77 [==============================] - 0s 325us/step - loss: 0.6826 - accuracy: 0.6823\n",
      "Epoch 8/150\n",
      "77/77 [==============================] - 0s 313us/step - loss: 0.6858 - accuracy: 0.6901\n",
      "Epoch 9/150\n",
      "77/77 [==============================] - 0s 309us/step - loss: 0.6384 - accuracy: 0.6992\n",
      "Epoch 10/150\n",
      "77/77 [==============================] - 0s 322us/step - loss: 0.6329 - accuracy: 0.7044\n",
      "Epoch 11/150\n",
      "77/77 [==============================] - 0s 316us/step - loss: 0.6200 - accuracy: 0.7083\n",
      "Epoch 12/150\n",
      "77/77 [==============================] - 0s 308us/step - loss: 0.6279 - accuracy: 0.7005\n",
      "Epoch 13/150\n",
      "77/77 [==============================] - 0s 311us/step - loss: 0.6079 - accuracy: 0.7057\n",
      "Epoch 14/150\n",
      "77/77 [==============================] - 0s 305us/step - loss: 0.5938 - accuracy: 0.7161\n",
      "Epoch 15/150\n",
      "77/77 [==============================] - 0s 306us/step - loss: 0.5924 - accuracy: 0.7083\n",
      "Epoch 16/150\n",
      "77/77 [==============================] - 0s 304us/step - loss: 0.5889 - accuracy: 0.7148\n",
      "Epoch 17/150\n",
      "77/77 [==============================] - 0s 297us/step - loss: 0.5932 - accuracy: 0.7161\n",
      "Epoch 18/150\n",
      "77/77 [==============================] - 0s 336us/step - loss: 0.5888 - accuracy: 0.7135\n",
      "Epoch 19/150\n",
      "77/77 [==============================] - 0s 310us/step - loss: 0.5943 - accuracy: 0.7188\n",
      "Epoch 20/150\n",
      "77/77 [==============================] - 0s 383us/step - loss: 0.6003 - accuracy: 0.7174\n",
      "Epoch 21/150\n",
      "77/77 [==============================] - 0s 797us/step - loss: 0.6006 - accuracy: 0.7083\n",
      "Epoch 22/150\n",
      "77/77 [==============================] - 0s 293us/step - loss: 0.5905 - accuracy: 0.7188\n",
      "Epoch 23/150\n",
      "77/77 [==============================] - 0s 292us/step - loss: 0.5735 - accuracy: 0.7148\n",
      "Epoch 24/150\n",
      "77/77 [==============================] - 0s 310us/step - loss: 0.5804 - accuracy: 0.7188\n",
      "Epoch 25/150\n",
      "77/77 [==============================] - 0s 305us/step - loss: 0.6091 - accuracy: 0.7057\n",
      "Epoch 26/150\n",
      "77/77 [==============================] - 0s 307us/step - loss: 0.5729 - accuracy: 0.7161\n",
      "Epoch 27/150\n",
      "77/77 [==============================] - 0s 295us/step - loss: 0.5666 - accuracy: 0.7148\n",
      "Epoch 28/150\n",
      "77/77 [==============================] - 0s 298us/step - loss: 0.5882 - accuracy: 0.7214\n",
      "Epoch 29/150\n",
      "77/77 [==============================] - 0s 295us/step - loss: 0.5772 - accuracy: 0.7148\n",
      "Epoch 30/150\n",
      "77/77 [==============================] - 0s 299us/step - loss: 0.5614 - accuracy: 0.7174\n",
      "Epoch 31/150\n",
      "77/77 [==============================] - 0s 294us/step - loss: 0.5766 - accuracy: 0.7201\n",
      "Epoch 32/150\n",
      "77/77 [==============================] - 0s 308us/step - loss: 0.5707 - accuracy: 0.7227\n",
      "Epoch 33/150\n",
      "77/77 [==============================] - 0s 302us/step - loss: 0.5747 - accuracy: 0.7201\n",
      "Epoch 34/150\n",
      "77/77 [==============================] - 0s 297us/step - loss: 0.5641 - accuracy: 0.7240\n",
      "Epoch 35/150\n",
      "77/77 [==============================] - 0s 301us/step - loss: 0.5781 - accuracy: 0.7266\n",
      "Epoch 36/150\n",
      "77/77 [==============================] - 0s 308us/step - loss: 0.5653 - accuracy: 0.7188\n",
      "Epoch 37/150\n",
      "77/77 [==============================] - 0s 303us/step - loss: 0.5604 - accuracy: 0.7305\n",
      "Epoch 38/150\n",
      "77/77 [==============================] - 0s 301us/step - loss: 0.5663 - accuracy: 0.7279\n",
      "Epoch 39/150\n",
      "77/77 [==============================] - 0s 295us/step - loss: 0.5512 - accuracy: 0.7318\n",
      "Epoch 40/150\n",
      "77/77 [==============================] - 0s 303us/step - loss: 0.5682 - accuracy: 0.7318\n",
      "Epoch 41/150\n",
      "77/77 [==============================] - 0s 319us/step - loss: 0.5562 - accuracy: 0.7227\n",
      "Epoch 42/150\n",
      "77/77 [==============================] - 0s 310us/step - loss: 0.5728 - accuracy: 0.7266\n",
      "Epoch 43/150\n",
      "77/77 [==============================] - 0s 311us/step - loss: 0.5602 - accuracy: 0.7188\n",
      "Epoch 44/150\n",
      "77/77 [==============================] - 0s 303us/step - loss: 0.5540 - accuracy: 0.7227\n",
      "Epoch 45/150\n",
      "77/77 [==============================] - 0s 357us/step - loss: 0.5393 - accuracy: 0.7370\n",
      "Epoch 46/150\n",
      "77/77 [==============================] - 0s 322us/step - loss: 0.5391 - accuracy: 0.7292\n",
      "Epoch 47/150\n",
      "77/77 [==============================] - 0s 301us/step - loss: 0.5442 - accuracy: 0.7331\n",
      "Epoch 48/150\n",
      "77/77 [==============================] - 0s 306us/step - loss: 0.5485 - accuracy: 0.7174\n",
      "Epoch 49/150\n",
      "77/77 [==============================] - 0s 311us/step - loss: 0.5460 - accuracy: 0.7357\n",
      "Epoch 50/150\n",
      "77/77 [==============================] - 0s 331us/step - loss: 0.5448 - accuracy: 0.7318\n",
      "Epoch 51/150\n",
      "77/77 [==============================] - 0s 311us/step - loss: 0.5465 - accuracy: 0.7331\n",
      "Epoch 52/150\n",
      "77/77 [==============================] - 0s 320us/step - loss: 0.5409 - accuracy: 0.7409\n",
      "Epoch 53/150\n",
      "77/77 [==============================] - 0s 319us/step - loss: 0.5464 - accuracy: 0.7396\n",
      "Epoch 54/150\n",
      "77/77 [==============================] - 0s 315us/step - loss: 0.5304 - accuracy: 0.7396\n",
      "Epoch 55/150\n",
      "77/77 [==============================] - 0s 357us/step - loss: 0.5596 - accuracy: 0.7292\n",
      "Epoch 56/150\n",
      "77/77 [==============================] - 0s 328us/step - loss: 0.5401 - accuracy: 0.7409\n",
      "Epoch 57/150\n",
      "77/77 [==============================] - 0s 302us/step - loss: 0.5477 - accuracy: 0.7227\n",
      "Epoch 58/150\n",
      "77/77 [==============================] - 0s 323us/step - loss: 0.5358 - accuracy: 0.7383\n",
      "Epoch 59/150\n",
      "77/77 [==============================] - 0s 432us/step - loss: 0.5327 - accuracy: 0.7513\n",
      "Epoch 60/150\n",
      "77/77 [==============================] - 0s 314us/step - loss: 0.5413 - accuracy: 0.7474\n",
      "Epoch 61/150\n",
      "77/77 [==============================] - 0s 316us/step - loss: 0.5347 - accuracy: 0.7396\n",
      "Epoch 62/150\n",
      "77/77 [==============================] - 0s 315us/step - loss: 0.5259 - accuracy: 0.7422\n",
      "Epoch 63/150\n",
      "77/77 [==============================] - 0s 371us/step - loss: 0.5556 - accuracy: 0.7174\n",
      "Epoch 64/150\n",
      "77/77 [==============================] - 0s 458us/step - loss: 0.5218 - accuracy: 0.7357\n",
      "Epoch 65/150\n",
      "77/77 [==============================] - 0s 307us/step - loss: 0.5495 - accuracy: 0.7292\n",
      "Epoch 66/150\n",
      "77/77 [==============================] - 0s 305us/step - loss: 0.5342 - accuracy: 0.7240\n",
      "Epoch 67/150\n",
      "77/77 [==============================] - 0s 308us/step - loss: 0.5513 - accuracy: 0.7396\n",
      "Epoch 68/150\n",
      "77/77 [==============================] - 0s 311us/step - loss: 0.5165 - accuracy: 0.7396\n",
      "Epoch 69/150\n",
      "77/77 [==============================] - 0s 315us/step - loss: 0.5370 - accuracy: 0.7448\n",
      "Epoch 70/150\n",
      "77/77 [==============================] - 0s 306us/step - loss: 0.5170 - accuracy: 0.7474\n",
      "Epoch 71/150\n",
      "77/77 [==============================] - 0s 304us/step - loss: 0.5203 - accuracy: 0.7435\n",
      "Epoch 72/150\n",
      "77/77 [==============================] - 0s 325us/step - loss: 0.5226 - accuracy: 0.7565\n",
      "Epoch 73/150\n",
      "77/77 [==============================] - 0s 305us/step - loss: 0.5273 - accuracy: 0.7487\n",
      "Epoch 74/150\n",
      "77/77 [==============================] - 0s 312us/step - loss: 0.5277 - accuracy: 0.7409\n",
      "Epoch 75/150\n",
      "77/77 [==============================] - 0s 312us/step - loss: 0.5456 - accuracy: 0.7227\n",
      "Epoch 76/150\n",
      "77/77 [==============================] - 0s 304us/step - loss: 0.5199 - accuracy: 0.7474\n",
      "Epoch 77/150\n",
      "77/77 [==============================] - 0s 308us/step - loss: 0.5309 - accuracy: 0.7474\n",
      "Epoch 78/150\n",
      "77/77 [==============================] - 0s 303us/step - loss: 0.5113 - accuracy: 0.7422\n",
      "Epoch 79/150\n",
      "77/77 [==============================] - 0s 310us/step - loss: 0.5141 - accuracy: 0.7435\n",
      "Epoch 80/150\n",
      "77/77 [==============================] - 0s 304us/step - loss: 0.5288 - accuracy: 0.7344\n",
      "Epoch 81/150\n",
      "77/77 [==============================] - 0s 506us/step - loss: 0.5250 - accuracy: 0.7396\n",
      "Epoch 82/150\n",
      "77/77 [==============================] - 0s 435us/step - loss: 0.5264 - accuracy: 0.7487\n",
      "Epoch 83/150\n",
      "77/77 [==============================] - 0s 340us/step - loss: 0.5149 - accuracy: 0.7422\n",
      "Epoch 84/150\n",
      "77/77 [==============================] - 0s 312us/step - loss: 0.5087 - accuracy: 0.7318\n",
      "Epoch 85/150\n",
      "77/77 [==============================] - 0s 298us/step - loss: 0.5185 - accuracy: 0.7461\n",
      "Epoch 86/150\n",
      "77/77 [==============================] - 0s 312us/step - loss: 0.5218 - accuracy: 0.7344\n",
      "Epoch 87/150\n",
      "77/77 [==============================] - 0s 308us/step - loss: 0.5110 - accuracy: 0.7513\n",
      "Epoch 88/150\n",
      "77/77 [==============================] - 0s 367us/step - loss: 0.5056 - accuracy: 0.7539\n",
      "Epoch 89/150\n",
      "77/77 [==============================] - 0s 318us/step - loss: 0.5081 - accuracy: 0.7487\n",
      "Epoch 90/150\n",
      "77/77 [==============================] - 0s 293us/step - loss: 0.5120 - accuracy: 0.7305\n",
      "Epoch 91/150\n",
      "77/77 [==============================] - 0s 321us/step - loss: 0.5266 - accuracy: 0.7370\n",
      "Epoch 92/150\n",
      "77/77 [==============================] - 0s 306us/step - loss: 0.5059 - accuracy: 0.7396\n",
      "Epoch 93/150\n",
      "77/77 [==============================] - 0s 296us/step - loss: 0.5050 - accuracy: 0.7422\n",
      "Epoch 94/150\n",
      "77/77 [==============================] - 0s 298us/step - loss: 0.5145 - accuracy: 0.7422\n",
      "Epoch 95/150\n",
      "77/77 [==============================] - 0s 299us/step - loss: 0.5073 - accuracy: 0.7448\n",
      "Epoch 96/150\n",
      "77/77 [==============================] - 0s 308us/step - loss: 0.5112 - accuracy: 0.7500\n",
      "Epoch 97/150\n",
      "77/77 [==============================] - 0s 293us/step - loss: 0.5064 - accuracy: 0.7370\n",
      "Epoch 98/150\n",
      "77/77 [==============================] - 0s 294us/step - loss: 0.5118 - accuracy: 0.7383\n",
      "Epoch 99/150\n",
      "77/77 [==============================] - 0s 297us/step - loss: 0.5187 - accuracy: 0.7383\n",
      "Epoch 100/150\n",
      "77/77 [==============================] - 0s 302us/step - loss: 0.5237 - accuracy: 0.7396\n",
      "Epoch 101/150\n",
      "77/77 [==============================] - 0s 295us/step - loss: 0.5160 - accuracy: 0.7422\n",
      "Epoch 102/150\n",
      "77/77 [==============================] - 0s 293us/step - loss: 0.5102 - accuracy: 0.7448\n",
      "Epoch 103/150\n",
      "77/77 [==============================] - 0s 294us/step - loss: 0.5050 - accuracy: 0.7409\n",
      "Epoch 104/150\n",
      "77/77 [==============================] - 0s 294us/step - loss: 0.5088 - accuracy: 0.7487\n",
      "Epoch 105/150\n",
      "77/77 [==============================] - 0s 315us/step - loss: 0.5107 - accuracy: 0.7357\n",
      "Epoch 106/150\n",
      "77/77 [==============================] - 0s 297us/step - loss: 0.5019 - accuracy: 0.7500\n",
      "Epoch 107/150\n",
      "77/77 [==============================] - 0s 299us/step - loss: 0.5119 - accuracy: 0.7344\n",
      "Epoch 108/150\n",
      "77/77 [==============================] - 0s 310us/step - loss: 0.4992 - accuracy: 0.7526\n",
      "Epoch 109/150\n",
      "77/77 [==============================] - 0s 318us/step - loss: 0.5081 - accuracy: 0.7526\n",
      "Epoch 110/150\n",
      "77/77 [==============================] - 0s 310us/step - loss: 0.4995 - accuracy: 0.7474\n",
      "Epoch 111/150\n",
      "77/77 [==============================] - 0s 317us/step - loss: 0.5076 - accuracy: 0.7409\n",
      "Epoch 112/150\n",
      "77/77 [==============================] - 0s 313us/step - loss: 0.5056 - accuracy: 0.7396\n",
      "Epoch 113/150\n",
      "77/77 [==============================] - 0s 297us/step - loss: 0.4998 - accuracy: 0.7578\n",
      "Epoch 114/150\n",
      "77/77 [==============================] - 0s 308us/step - loss: 0.5089 - accuracy: 0.7552\n",
      "Epoch 115/150\n",
      "77/77 [==============================] - 0s 306us/step - loss: 0.4918 - accuracy: 0.7526\n",
      "Epoch 116/150\n",
      "77/77 [==============================] - 0s 300us/step - loss: 0.4953 - accuracy: 0.7487\n",
      "Epoch 117/150\n",
      "77/77 [==============================] - 0s 294us/step - loss: 0.4987 - accuracy: 0.7513\n",
      "Epoch 118/150\n",
      "77/77 [==============================] - 0s 300us/step - loss: 0.4910 - accuracy: 0.7539\n",
      "Epoch 119/150\n",
      "77/77 [==============================] - 0s 299us/step - loss: 0.4906 - accuracy: 0.7539\n",
      "Epoch 120/150\n",
      "77/77 [==============================] - 0s 295us/step - loss: 0.4945 - accuracy: 0.7435\n",
      "Epoch 121/150\n",
      "77/77 [==============================] - 0s 298us/step - loss: 0.5061 - accuracy: 0.7695\n",
      "Epoch 122/150\n",
      "77/77 [==============================] - 0s 299us/step - loss: 0.4998 - accuracy: 0.7526\n",
      "Epoch 123/150\n",
      "77/77 [==============================] - 0s 467us/step - loss: 0.5059 - accuracy: 0.7474\n",
      "Epoch 124/150\n",
      "77/77 [==============================] - 0s 369us/step - loss: 0.5124 - accuracy: 0.7461\n",
      "Epoch 125/150\n",
      "77/77 [==============================] - 0s 462us/step - loss: 0.5066 - accuracy: 0.7396\n",
      "Epoch 126/150\n",
      "77/77 [==============================] - 0s 358us/step - loss: 0.5145 - accuracy: 0.7539\n",
      "Epoch 127/150\n",
      "77/77 [==============================] - 0s 305us/step - loss: 0.4937 - accuracy: 0.7630\n",
      "Epoch 128/150\n",
      "77/77 [==============================] - 0s 317us/step - loss: 0.5032 - accuracy: 0.7500\n",
      "Epoch 129/150\n",
      "77/77 [==============================] - 0s 355us/step - loss: 0.5417 - accuracy: 0.7461\n",
      "Epoch 130/150\n",
      "77/77 [==============================] - 0s 322us/step - loss: 0.4918 - accuracy: 0.7474\n",
      "Epoch 131/150\n",
      "77/77 [==============================] - 0s 421us/step - loss: 0.4905 - accuracy: 0.7552\n",
      "Epoch 132/150\n",
      "77/77 [==============================] - 0s 340us/step - loss: 0.4948 - accuracy: 0.7643\n",
      "Epoch 133/150\n",
      "77/77 [==============================] - 0s 369us/step - loss: 0.4876 - accuracy: 0.7604\n",
      "Epoch 134/150\n",
      "77/77 [==============================] - 0s 397us/step - loss: 0.4946 - accuracy: 0.7578\n",
      "Epoch 135/150\n",
      "77/77 [==============================] - 0s 365us/step - loss: 0.4768 - accuracy: 0.7643\n",
      "Epoch 136/150\n",
      "77/77 [==============================] - 0s 311us/step - loss: 0.4864 - accuracy: 0.7669\n",
      "Epoch 137/150\n",
      "77/77 [==============================] - 0s 432us/step - loss: 0.4946 - accuracy: 0.7474\n",
      "Epoch 138/150\n",
      "77/77 [==============================] - 0s 303us/step - loss: 0.4907 - accuracy: 0.7591\n",
      "Epoch 139/150\n",
      "77/77 [==============================] - 0s 296us/step - loss: 0.4798 - accuracy: 0.7617\n",
      "Epoch 140/150\n",
      "77/77 [==============================] - 0s 315us/step - loss: 0.4848 - accuracy: 0.7682\n",
      "Epoch 141/150\n",
      "77/77 [==============================] - 0s 293us/step - loss: 0.4856 - accuracy: 0.7617\n",
      "Epoch 142/150\n",
      "77/77 [==============================] - 0s 294us/step - loss: 0.5014 - accuracy: 0.7565\n",
      "Epoch 143/150\n",
      "77/77 [==============================] - 0s 301us/step - loss: 0.4832 - accuracy: 0.7643\n",
      "Epoch 144/150\n",
      "77/77 [==============================] - 0s 300us/step - loss: 0.4772 - accuracy: 0.7617\n",
      "Epoch 145/150\n",
      "77/77 [==============================] - 0s 300us/step - loss: 0.4786 - accuracy: 0.7604\n",
      "Epoch 146/150\n",
      "77/77 [==============================] - 0s 305us/step - loss: 0.4841 - accuracy: 0.7591\n",
      "Epoch 147/150\n",
      "77/77 [==============================] - 0s 306us/step - loss: 0.4919 - accuracy: 0.7513\n",
      "Epoch 148/150\n",
      "77/77 [==============================] - 0s 318us/step - loss: 0.4895 - accuracy: 0.7656\n",
      "Epoch 149/150\n",
      "77/77 [==============================] - 0s 309us/step - loss: 0.4931 - accuracy: 0.7591\n",
      "Epoch 150/150\n",
      "77/77 [==============================] - 0s 301us/step - loss: 0.4841 - accuracy: 0.7617\n"
     ]
    },
    {
     "data": {
      "text/plain": [
       "<keras.src.callbacks.History at 0x7f4520300890>"
      ]
     },
     "execution_count": 6,
     "metadata": {},
     "output_type": "execute_result"
    }
   ],
   "source": [
    "# compile the keras model\n",
    "model.compile(loss='binary_crossentropy', optimizer='adam', metrics=['accuracy'])\n",
    "# fit the keras model on the dataset\n",
    "model.fit(X, y, epochs=150, batch_size=10)"
   ]
  },
  {
   "cell_type": "markdown",
   "metadata": {},
   "source": [
    "## evaluate"
   ]
  },
  {
   "cell_type": "code",
   "execution_count": 5,
   "metadata": {},
   "outputs": [
    {
     "name": "stdout",
     "output_type": "stream",
     "text": [
      "24/24 [==============================] - 0s 393us/step - loss: 0.4628 - accuracy: 0.7747\n",
      "Accuracy: 77.47\n"
     ]
    }
   ],
   "source": [
    "# evaluate the keras model\n",
    "_, accuracy = model.evaluate(X, y)\n",
    "print('Accuracy: %.2f' % (accuracy*100))"
   ]
  },
  {
   "cell_type": "markdown",
   "metadata": {},
   "source": [
    "## predict"
   ]
  },
  {
   "cell_type": "code",
   "execution_count": 6,
   "metadata": {},
   "outputs": [
    {
     "name": "stdout",
     "output_type": "stream",
     "text": [
      "24/24 [==============================] - 0s 327us/step\n",
      "24/24 [==============================] - 0s 291us/step\n"
     ]
    }
   ],
   "source": [
    "# make probability predictions with the model\n",
    "predictions = model.predict(X)\n",
    "# round predictions \n",
    "rounded = [round(x[0]) for x in predictions]\n",
    "\n",
    "### alternatively \n",
    "### alternatively \n",
    "### alternatively \n",
    "# make class predictions with the model\n",
    "predictions = (model.predict(X) > 0.5).astype(int)"
   ]
  },
  {
   "cell_type": "markdown",
   "metadata": {},
   "source": [
    "## further reading: https://www.datacamp.com/cheat-sheet/keras-cheat-sheet-neural-networks-in-python"
   ]
  },
  {
   "cell_type": "code",
   "execution_count": null,
   "metadata": {},
   "outputs": [],
   "source": [
    "## regression\n",
    "from keras.optimizers import RMSprop\n",
    "rmsprop = RMSprop(lr=0.0001)\n",
    "model.compile(optimizer=rmsprop, loss='mse', metrics=['mae'])\n",
    "\n",
    "from keras.optimizers import SGD, RMSprop\n",
    "sgd=SGD(lr=0.1)\n",
    "model.compile(optimizer=sgd, loss='mse', metrics=['mae'])"
   ]
  }
 ],
 "metadata": {
  "kernelspec": {
   "display_name": "cuda121",
   "language": "python",
   "name": "python3"
  },
  "language_info": {
   "codemirror_mode": {
    "name": "ipython",
    "version": 3
   },
   "file_extension": ".py",
   "mimetype": "text/x-python",
   "name": "python",
   "nbconvert_exporter": "python",
   "pygments_lexer": "ipython3",
   "version": "3.10.12"
  }
 },
 "nbformat": 4,
 "nbformat_minor": 2
}
